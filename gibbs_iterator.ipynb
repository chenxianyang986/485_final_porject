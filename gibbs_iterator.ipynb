{
 "cells": [
  {
   "cell_type": "code",
   "execution_count": 14,
   "id": "4e569a49",
   "metadata": {},
   "outputs": [
    {
     "data": {
      "image/png": "[encoded data removed]",
      "text/plain": [
       "<Figure size 432x288 with 3 Axes>"
      ]
     },
     "metadata": {
      "needs_background": "light"
     },
     "output_type": "display_data"
    }
   ],
   "source": [
    "from ase.build import bulk\n",
    "from ase.calculators.emt import EMT\n",
    "from ase.phonons import Phonons\n",
    "from ase.dft.kpoints import *\n",
    "import matplotlib.pyplot as plt\n",
    "import numpy as np\n",
    "from ase.calculators.eam import EAM\n",
    "\n",
    "zr1 = EAM(potential='Zr_3.eam.fs')\n",
    "zr1.write_potential('Zr_3.eam.fs')\n",
    "zr1.plot()\n",
    "\n",
    "zr2 = EAM(potential='Zr_3.eam.fs')\n",
    "zr2.write_potential('Zr_3.eam.fs')\n",
    "zr2.plot()"
   ]
  },
  {
   "cell_type": "code",
   "execution_count": 5,
   "id": "2d55230a",
   "metadata": {},
   "outputs": [
    {
     "name": "stdout",
     "output_type": "stream",
     "text": [
      "-0.7743441208332266\n"
     ]
    }
   ],
   "source": [
    "k = 8.617333262e-5\n",
    "T = 1200\n",
    "# Setup crystal and EMT calculator\n",
    "atoms = bulk('Zr', 'bcc',  a=3.6)\n",
    "atoms.calc = zr2\n",
    "N = 7\n",
    "ph = Phonons(atoms, zr2, supercell=(N, N, N), delta=0.05)\n",
    "ph.run()\n",
    "ph.read(acoustic=True)\n",
    "ph.clean()\n",
    "\n",
    "#Trial1:\n",
    "kv=(7, 7, 7)\n",
    "kvc = monkhorst_pack(kv)\n",
    "omega_kl, u_kl = ph.band_structure(kvc,verbose = False, modes = True)\n",
    "omega = np.abs(omega_kl)\n",
    "\n",
    "Farray = k*T*np.log(2*np.sinh(np.array(omega)/(2*k*T)))\n",
    "F1 = sum(map(sum, Farray))\n",
    "\n",
    "V = atoms.get_volume()\n",
    "#P = 0.01623405461\n",
    "P = 1/1581225.38445596\n",
    "U = atoms.get_potential_energy()/N**3\n",
    "\n",
    "\n",
    "print(F1/N**3 + P*V + U)\n",
    "\n",
    "\n",
    "\n"
   ]
  },
  {
   "cell_type": "code",
   "execution_count": 15,
   "id": "752163e6",
   "metadata": {},
   "outputs": [],
   "source": [
    "def Gibbs_bcc(T):\n",
    "    k = 8.617333262e-5\n",
    "    \n",
    "    temp = str(T)\n",
    "    tempname = (temp + \"_phonon\" +  \"_bcc\")\n",
    "    \n",
    "    atoms = bulk('Zr', 'bcc',  a=3.6)\n",
    "    atoms.calc = zr2\n",
    "    N = 7\n",
    "    ph = Phonons(atoms, zr2, supercell=(N, N, N), delta=0.05,name = tempname)\n",
    "    ph.run()\n",
    "    ph.read(acoustic=True)\n",
    "    ph.clean()\n",
    "\n",
    "    #Trial1:\n",
    "    kv=(7, 7, 7)\n",
    "    kvc = monkhorst_pack(kv)\n",
    "    omega_kl = ph.band_structure(kvc,verbose = False)\n",
    "    omega = np.abs(omega_kl)\n",
    "\n",
    "    Farray = k*T*np.log(2*np.sinh(np.array(omega)/(2*k*T)))\n",
    "    F1 = sum(map(sum, Farray))\n",
    "\n",
    "    V = atoms.get_volume()\n",
    "    #P = 0.01623405461\n",
    "    P = 1/1581225.38445596\n",
    "    U = atoms.get_potential_energy()/N**3\n",
    "\n",
    "\n",
    "    return(F1/N**3 + P*V + U),atoms.get_volume()\n",
    "\n",
    "def Gibbs_hcp(T):\n",
    "    k = 8.617333262e-5\n",
    "    \n",
    "    temp = str(T)\n",
    "    tempname = (temp + \"_phonon\" +  \"_hcp\")\n",
    "    \n",
    "    atoms = bulk('Zr', 'hcp',  a=3.23, b = 5.18)\n",
    "    atoms.calc = zr2\n",
    "    N = 7\n",
    "    ph = Phonons(atoms, zr2, supercell=(N, N, N), delta=0.05,name = tempname)\n",
    "    ph.run()\n",
    "    ph.read(acoustic=True)\n",
    "    ph.clean()\n",
    "\n",
    "    #Trial1:\n",
    "    kv=(7, 7, 7)\n",
    "    kvc = monkhorst_pack(kv)\n",
    "    omega_kl = ph.band_structure(kvc,verbose = False)\n",
    "    omega = np.abs(omega_kl)\n",
    "\n",
    "    Farray = k*T*np.log(2*np.sinh(np.array(omega)/(2*k*T)))\n",
    "    F1 = sum(map(sum, Farray))\n",
    "\n",
    "    V = atoms.get_volume()\n",
    "    #P = 0.01623405461\n",
    "    P = 6.25e-3\n",
    "    U = atoms.get_potential_energy()/N**3\n",
    "\n",
    "\n",
    "    return(F1/N**3 + P*V + U),atoms.get_volume()\n",
    "    \n",
    "\n",
    "    "
   ]
  },
  {
   "cell_type": "code",
   "execution_count": 16,
   "id": "f93bc6f1",
   "metadata": {},
   "outputs": [
    {
     "name": "stdout",
     "output_type": "stream",
     "text": [
      "100\n",
      "200\n",
      "300\n",
      "400\n",
      "500\n",
      "600\n",
      "700\n",
      "800\n",
      "900\n",
      "1000\n",
      "1100\n",
      "1200\n",
      "1300\n"
     ]
    }
   ],
   "source": [
    "G_hcp = []\n",
    "G_bcc = []\n",
    "\n",
    "for i in range(13):\n",
    "    T = 100+100*i\n",
    "    \n",
    "    gh,v = Gibbs_hcp(T)\n",
    "    gb,vh = Gibbs_bcc(T)\n",
    "    \n",
    "    print(T)\n",
    "    G_hcp.append(gh)\n",
    "    G_bcc.append(gb)\n"
   ]
  },
  {
   "cell_type": "code",
   "execution_count": 17,
   "id": "aa6c005e",
   "metadata": {},
   "outputs": [
    {
     "data": {
      "text/plain": [
       "[<matplotlib.lines.Line2D at 0x7fd14f481430>]"
      ]
     },
     "execution_count": 17,
     "metadata": {},
     "output_type": "execute_result"
    },
    {
     "data": {
      "image/png": "[encoded data removed]",
      "text/plain": [
       "<Figure size 432x288 with 1 Axes>"
      ]
     },
     "metadata": {
      "needs_background": "light"
     },
     "output_type": "display_data"
    }
   ],
   "source": [
    "T = [100,200,300,400,500,600,700,800,900,1000,1100,1200,1300]\n",
    "plt.plot(T,G_hcp)\n",
    "plt.plot(T,G_bcc)"
   ]
  },
  {
   "cell_type": "code",
   "execution_count": null,
   "id": "e46f1461",
   "metadata": {},
   "outputs": [],
   "source": []
  }
 ],
 "metadata": {
  "kernelspec": {
   "display_name": "Python 3",
   "language": "python",
   "name": "python3"
  },
  "language_info": {
   "codemirror_mode": {
    "name": "ipython",
    "version": 3
   },
   "file_extension": ".py",
   "mimetype": "text/x-python",
   "name": "python",
   "nbconvert_exporter": "python",
   "pygments_lexer": "ipython3",
   "version": "3.8.8"
  }
 },
 "nbformat": 4,
 "nbformat_minor": 5
}
