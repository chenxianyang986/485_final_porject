{
 "cells": [
  {
   "cell_type": "code",
   "execution_count": 158,
   "id": "3f2018e6",
   "metadata": {},
   "outputs": [
    {
     "data": {
      "image/png": "[encoded data removed]",
      "text/plain": [
       "<Figure size 432x288 with 3 Axes>"
      ]
     },
     "metadata": {
      "needs_background": "light"
     },
     "output_type": "display_data"
    }
   ],
   "source": [
    "#sinusoid\n",
    "from ase.build import bulk\n",
    "from ase import Atoms\n",
    "from ase.atom import Atom\n",
    "from ase.calculators.emt import EMT\n",
    "from ase.phonons import Phonons\n",
    "from ase.dft.kpoints import *\n",
    "import matplotlib.pyplot as plt\n",
    "from ase.visualize import view\n",
    "import numpy as np\n",
    "from ase.calculators.eam import EAM\n",
    "from ase.md import verlet\n",
    "from ase.md.verlet import VelocityVerlet\n",
    "from ase import units\n",
    "\n",
    "zr1 = EAM(potential='Zr_3.eam.fs')\n",
    "zr1.write_potential('Zr_3.eam.fs')\n",
    "zr1.plot()\n",
    "\n",
    "zr2 = EAM(potential='Zr_2.eam.fs')\n",
    "zr2.write_potential('Zr_2.eam.fs')\n",
    "zr2.plot()\n",
    "\n",
    "LJ = LennardJones(sigma = 1, epsilon = 1, rc = 7.2 /1.5)\n",
    "\n",
    "### Initialize MEAM HERE!!!!\n"
   ]
  },
  {
   "cell_type": "code",
   "execution_count": 62,
   "id": "16ba7534",
   "metadata": {},
   "outputs": [],
   "source": [
    "def MC_2part(d,calc,steps = 600,stepsize = 1):\n",
    "    a = Atoms([Atom('Zr', (0, 0, -d/2)), Atom('Zr', (0, 0, d/2))],calculator = calc)\n",
    "\n",
    "    dyn = VelocityVerlet(a,timestep=stepsize*ase.units.fs)\n",
    "\n",
    "    forces = []\n",
    "    Etotal = []\n",
    "\n",
    "    def forceplot(a):\n",
    "        F = a.get_forces() \n",
    "        forces.append(F[0][2])\n",
    "        etot = a.get_potential_energy() + a.get_kinetic_energy()\n",
    "        Etotal.append(etot)\n",
    "\n",
    "\n",
    "    for i in range(steps):\n",
    "        dyn.run(1)\n",
    "        forceplot(a)\n",
    "    \n",
    "    return forces, Etotal\n",
    "\n",
    "\n",
    "def periodcheck(f):\n",
    "    ps = []\n",
    "    m1 = np.min(np.array(f))\n",
    "    \n",
    "    for i in  range(len(f)):\n",
    "        if(f[i]-m1 < 0.3):\n",
    "            ps.append(i)\n",
    "            \n",
    "    return ps\n",
    "\n",
    "def periodiso(f,ps):\n",
    "    for i in range(len(ps)-1):\n",
    "        if((ps[i+1] - ps[i]) > 20):\n",
    "            return f[ps[i]:ps[i+1]]\n",
    "        \n",
    "    return f\n",
    "\n"
   ]
  },
  {
   "cell_type": "code",
   "execution_count": 63,
   "id": "10d7bc1d",
   "metadata": {},
   "outputs": [],
   "source": [
    "def HAM_check_2d(d,calc,steps = 600,stepsize = 1):\n",
    "    \n",
    "    forces,energy = MC_2part(d,calc,steps = 600,stepsize = 1)\n",
    "    ps = periodcheck(forces)\n",
    "    f = periodiso(forces,ps)\n",
    "    \n",
    "    dft = np.abs(np.fft.rfft(f))\n",
    "    ndft = np.abs(dft)/np.trapz(np.abs(dft))\n",
    "    \n",
    "    Ham = np.std(ndft)**2\n",
    "    \n",
    "    return forces,f,dft,ndft,Ham"
   ]
  },
  {
   "cell_type": "code",
   "execution_count": 71,
   "id": "e517b114",
   "metadata": {},
   "outputs": [],
   "source": [
    "hamarray = []\n",
    "\n"
   ]
  },
  {
   "cell_type": "code",
   "execution_count": 72,
   "id": "ff1cf361",
   "metadata": {},
   "outputs": [
    {
     "name": "stdout",
     "output_type": "stream",
     "text": [
      "0.0013332126186889513\n"
     ]
    },
    {
     "data": {
      "image/png": "[encoded data removed]",
      "text/plain": [
       "<Figure size 432x288 with 1 Axes>"
      ]
     },
     "metadata": {
      "needs_background": "light"
     },
     "output_type": "display_data"
    }
   ],
   "source": []
  },
  {
   "cell_type": "code",
   "execution_count": 100,
   "id": "bf0ee698",
   "metadata": {},
   "outputs": [],
   "source": [
    "\n",
    "\n",
    "\n",
    "atoms = bulk('Zr', 'hcp', a=3.6, c = 5.20) * (3, 3, 3)\n",
    "\n",
    "j = np.array(atoms.get_positions())\n",
    "#print(j)\n",
    "\n"
   ]
  },
  {
   "cell_type": "code",
   "execution_count": 160,
   "id": "9c9b5ecb",
   "metadata": {},
   "outputs": [],
   "source": [
    "def advance(atoms,calc,idx,vel,dt):\n",
    "    #initialize\n",
    "    atoms.calc = calc\n",
    "    mass = np.array(atoms.get_masses())\n",
    "    m = mass[3]\n",
    "    force = np.array(atoms.get_forces())\n",
    "    pos = np.array(atoms.get_positions())\n",
    "    \n",
    "    #move1\n",
    "    accel = force[idx] / m\n",
    "    vel_half = vel + 0.5*dt*accel\n",
    "    pos_new = pos \n",
    "    pos_new[idx]+= dt*vel_half\n",
    "    \n",
    "    atoms.set_positions(pos_new)\n",
    "    \n",
    "    #move2\n",
    "    force2 = np.array(atoms.get_forces())\n",
    "    accel2 = force2[idx] / m\n",
    "    vel_new = vel_half + 0.5*dt*accel2\n",
    "    \n",
    "    return force2[idx],vel_new,pos_new[idx]\n",
    "\n",
    "def changearray_hcp(mode,dist,atom):\n",
    "    c = np.zeros(shape = (54,3))\n",
    "    c[atom] = (mode)*dist\n",
    "    return c\n",
    "\n",
    "def GridMC_hcp_1(calc,steps,mode,dist,atom):\n",
    "    dt = 0.1\n",
    "    \n",
    "    atoms = bulk('Zr', 'hcp', a=3.24, c = 5.22) * (3, 3, 3)\n",
    "    j = np.array(atoms.get_positions())\n",
    "    cinit = changearray_hcp(mode,dist,atom)\n",
    "    pos1 = j + cinit\n",
    "    atoms.set_positions(pos1)\n",
    "    \n",
    "    vel = [0,0,0]\n",
    "    \n",
    "    forcearray = []\n",
    "    posarray = []\n",
    "    \n",
    "    for i in range(steps):\n",
    "        f,vel,pos = advance(atoms,calc,atom,vel,dt)\n",
    "        forcearray.append(f)\n",
    "        posarray.append(pos)\n",
    "        if(i%20 ==0):\n",
    "            print(i)\n",
    "        \n",
    "    return forcearray,posarray\n",
    "\n",
    "\n",
    "def GridMC_bcc_1(calc,steps,mode,dist,atom):\n",
    "    dt = 0.1\n",
    "    \n",
    "    atoms = bulk('Zr', 'bcc', a=3.6) * (3, 3, 3)\n",
    "    j = np.array(atoms.get_positions())\n",
    "    cinit = changearray_hcp(mode,dist,atom)\n",
    "    pos1 = j + cinit\n",
    "    atoms.set_positions(pos1)\n",
    "    \n",
    "    vel = [0,0,0]\n",
    "    \n",
    "    forcearray = []\n",
    "    posarray = []\n",
    "    \n",
    "    for i in range(steps):\n",
    "        f,vel,pos = advance(atoms,calc,atom,vel,dt)\n",
    "        forcearray.append(f)\n",
    "        posarray.append(pos)\n",
    "        if(i%20 ==0):\n",
    "            print(i)\n",
    "        \n",
    "    return forcearray,posarray\n",
    "        \n",
    "\n",
    "    \n",
    "def HAM_check_multi_hcp(displacement=1,mode=[1,1,0],atom=14,steps=600,calc=zr2):\n",
    "    \n",
    "    forc,posi = GridMC_hcp_1(calc,steps,mode,displacement,atom)\n",
    "    farray = np.array(forc)\n",
    "    forces = np.sqrt(farray[:,0]**2 + farray[:,1]**2+farray[:,2]**2)\n",
    "    \n",
    "    ps = periodcheck(forces)\n",
    "    f = periodiso(forces,ps)\n",
    "    \n",
    "    dft = np.abs(np.fft.rfft(f))\n",
    "    ndft = np.abs(dft)/np.trapz(np.abs(dft))\n",
    "    \n",
    "    Ham = np.std(ndft)**2\n",
    "    \n",
    "    return forces,f,dft,ndft,Ham\n",
    "    \n",
    "    \n",
    "    \n",
    "def HAM_check_multi_bcc(displacement=1,mode=[1,1,0],atom=14,steps=600,calc=zr2):\n",
    "    \n",
    "    forc,posi = GridMC_bcc_1(calc,steps,mode,displacement,atom)\n",
    "    farray = np.array(forc)\n",
    "    forces = np.sqrt(farray[:,0]**2 + farray[:,1]**2+farray[:,2]**2)\n",
    "    \n",
    "    ps = periodcheck(forces)\n",
    "    f = periodiso(forces,ps)\n",
    "    \n",
    "    dft = np.abs(np.fft.rfft(f))\n",
    "    ndft = np.abs(dft)/np.trapz(np.abs(dft))\n",
    "    \n",
    "    Ham = np.std(ndft)**2\n",
    "    \n",
    "    return forces,f,dft,ndft,Ham\n",
    "    "
   ]
  },
  {
   "cell_type": "code",
   "execution_count": 132,
   "id": "c7281670",
   "metadata": {},
   "outputs": [
    {
     "name": "stdout",
     "output_type": "stream",
     "text": [
      "0\n",
      "20\n",
      "40\n",
      "60\n",
      "80\n",
      "100\n",
      "120\n",
      "140\n",
      "160\n",
      "180\n",
      "200\n",
      "220\n",
      "240\n",
      "260\n",
      "280\n",
      "300\n",
      "320\n",
      "340\n",
      "360\n",
      "380\n",
      "400\n",
      "420\n",
      "440\n",
      "460\n",
      "480\n",
      "500\n",
      "520\n",
      "540\n",
      "560\n",
      "580\n"
     ]
    }
   ],
   "source": [
    "f,p = GridMC_hcp_1(zr2,600,[1,1,0],1,14)"
   ]
  },
  {
   "cell_type": "code",
   "execution_count": 151,
   "id": "141e8bc4",
   "metadata": {},
   "outputs": [
    {
     "data": {
      "image/png": "[encoded data removed]",
      "text/plain": [
       "<Figure size 432x288 with 1 Axes>"
      ]
     },
     "metadata": {
      "needs_background": "light"
     },
     "output_type": "display_data"
    }
   ],
   "source": [
    "plt.plot(f)\n",
    "forces = np.array(f)\n",
    "\n",
    "\n",
    "\n",
    "#plt.plot(np.sqrt(np.sum(forces[2:]*forces[2:], axis = 0)))"
   ]
  },
  {
   "cell_type": "code",
   "execution_count": 157,
   "id": "11cf9a64",
   "metadata": {},
   "outputs": [
    {
     "data": {
      "text/plain": [
       "[<matplotlib.lines.Line2D at 0x7fdc379b52b0>]"
      ]
     },
     "execution_count": 157,
     "metadata": {},
     "output_type": "execute_result"
    },
    {
     "data": {
      "image/png": "[encoded data removed]",
      "text/plain": [
       "<Figure size 432x288 with 1 Axes>"
      ]
     },
     "metadata": {
      "needs_background": "light"
     },
     "output_type": "display_data"
    }
   ],
   "source": []
  },
  {
   "cell_type": "code",
   "execution_count": 161,
   "id": "44e22595",
   "metadata": {},
   "outputs": [
    {
     "name": "stdout",
     "output_type": "stream",
     "text": [
      "0\n",
      "20\n",
      "40\n",
      "60\n",
      "80\n",
      "100\n",
      "120\n",
      "140\n",
      "160\n",
      "180\n",
      "200\n",
      "220\n",
      "240\n",
      "260\n",
      "280\n",
      "300\n",
      "320\n",
      "340\n",
      "360\n",
      "380\n",
      "400\n",
      "420\n",
      "440\n",
      "460\n",
      "480\n",
      "500\n",
      "520\n",
      "540\n",
      "560\n",
      "580\n"
     ]
    }
   ],
   "source": [
    "forces,f,dft,ndft,Ham = HAM_check_multi_hcp(displacement=1,mode=[1,1,0],atom=14,steps=600,calc=LJ)\n",
    "forces,f,dft,ndft,Ham = HAM_check_multi_hcp(displacement=1,mode=[1,1,0],atom=14,steps=600,calc=zr2)\n",
    "forces,f,dft,ndft,Ham = HAM_check_multi_hcp(displacement=0.5,mode=[1,1,0],atom=14,steps=600,calc=zr2)\n",
    "forces,f,dft,ndft,Ham = HAM_check_multi_hcp(displacement=1,mode=[1,1,0],atom=14,steps=600,calc=meam)\n",
    "\n",
    "forces,f,dft,ndft,Ham = HAM_check_multi_bcc(displacement=1,mode=[1,1,0],atom=14,steps=600,calc=LJ)\n",
    "forces,f,dft,ndft,Ham = HAM_check_multi_bcc(displacement=1,mode=[1,1,0],atom=14,steps=600,calc=zr2)\n",
    "forces,f,dft,ndft,Ham = HAM_check_multi_bcc(displacement=0.5,mode=[1,1,0],atom=14,steps=600,calc=zr2)\n",
    "forces,f,dft,ndft,Ham = HAM_check_multi_bcc(displacement=1,mode=[1,1,0],atom=14,steps=600,calc=meam)"
   ]
  },
  {
   "cell_type": "code",
   "execution_count": 168,
   "id": "f5e1dd0d",
   "metadata": {},
   "outputs": [
    {
     "name": "stdout",
     "output_type": "stream",
     "text": [
      "0.019741620327551553\n"
     ]
    },
    {
     "data": {
      "image/png": "[encoded data removed]",
      "text/plain": [
       "<Figure size 432x288 with 1 Axes>"
      ]
     },
     "metadata": {
      "needs_background": "light"
     },
     "output_type": "display_data"
    }
   ],
   "source": [
    "plt.plot(ndft)\n",
    "plt.plot(forces[201:290])\n",
    "plt.plot(f)\n",
    "print(Ham)"
   ]
  },
  {
   "cell_type": "code",
   "execution_count": 169,
   "id": "43c65b1c",
   "metadata": {},
   "outputs": [
    {
     "ename": "NameError",
     "evalue": "name 'LJ' is not defined",
     "output_type": "error",
     "traceback": [
      "\u001b[0;31m---------------------------------------------------------------------------\u001b[0m",
      "\u001b[0;31mNameError\u001b[0m                                 Traceback (most recent call last)",
      "\u001b[0;32m<ipython-input-169-b1d4534f062b>\u001b[0m in \u001b[0;36m<module>\u001b[0;34m\u001b[0m\n\u001b[0;32m----> 1\u001b[0;31m \u001b[0mforces\u001b[0m\u001b[0;34m,\u001b[0m\u001b[0mf\u001b[0m\u001b[0;34m,\u001b[0m\u001b[0mdft\u001b[0m\u001b[0;34m,\u001b[0m\u001b[0mndft\u001b[0m\u001b[0;34m,\u001b[0m\u001b[0mHam\u001b[0m \u001b[0;34m=\u001b[0m \u001b[0mHAM_check_multi_hcp\u001b[0m\u001b[0;34m(\u001b[0m\u001b[0mdisplacement\u001b[0m\u001b[0;34m=\u001b[0m\u001b[0;36m1\u001b[0m\u001b[0;34m,\u001b[0m\u001b[0mmode\u001b[0m\u001b[0;34m=\u001b[0m\u001b[0;34m[\u001b[0m\u001b[0;36m1\u001b[0m\u001b[0;34m,\u001b[0m\u001b[0;36m1\u001b[0m\u001b[0;34m,\u001b[0m\u001b[0;36m0\u001b[0m\u001b[0;34m]\u001b[0m\u001b[0;34m,\u001b[0m\u001b[0matom\u001b[0m\u001b[0;34m=\u001b[0m\u001b[0;36m14\u001b[0m\u001b[0;34m,\u001b[0m\u001b[0msteps\u001b[0m\u001b[0;34m=\u001b[0m\u001b[0;36m600\u001b[0m\u001b[0;34m,\u001b[0m\u001b[0mcalc\u001b[0m\u001b[0;34m=\u001b[0m\u001b[0mLJ\u001b[0m\u001b[0;34m)\u001b[0m\u001b[0;34m\u001b[0m\u001b[0;34m\u001b[0m\u001b[0m\n\u001b[0m\u001b[1;32m      2\u001b[0m \u001b[0mforces\u001b[0m\u001b[0;34m,\u001b[0m\u001b[0mf\u001b[0m\u001b[0;34m,\u001b[0m\u001b[0mdft\u001b[0m\u001b[0;34m,\u001b[0m\u001b[0mndft\u001b[0m\u001b[0;34m,\u001b[0m\u001b[0mHam\u001b[0m \u001b[0;34m=\u001b[0m \u001b[0mHAM_check_multi_hcp\u001b[0m\u001b[0;34m(\u001b[0m\u001b[0mdisplacement\u001b[0m\u001b[0;34m=\u001b[0m\u001b[0;36m1\u001b[0m\u001b[0;34m,\u001b[0m\u001b[0mmode\u001b[0m\u001b[0;34m=\u001b[0m\u001b[0;34m[\u001b[0m\u001b[0;36m1\u001b[0m\u001b[0;34m,\u001b[0m\u001b[0;36m1\u001b[0m\u001b[0;34m,\u001b[0m\u001b[0;36m0\u001b[0m\u001b[0;34m]\u001b[0m\u001b[0;34m,\u001b[0m\u001b[0matom\u001b[0m\u001b[0;34m=\u001b[0m\u001b[0;36m14\u001b[0m\u001b[0;34m,\u001b[0m\u001b[0msteps\u001b[0m\u001b[0;34m=\u001b[0m\u001b[0;36m600\u001b[0m\u001b[0;34m,\u001b[0m\u001b[0mcalc\u001b[0m\u001b[0;34m=\u001b[0m\u001b[0mzr2\u001b[0m\u001b[0;34m)\u001b[0m\u001b[0;34m\u001b[0m\u001b[0;34m\u001b[0m\u001b[0m\n\u001b[1;32m      3\u001b[0m \u001b[0mforces\u001b[0m\u001b[0;34m,\u001b[0m\u001b[0mf\u001b[0m\u001b[0;34m,\u001b[0m\u001b[0mdft\u001b[0m\u001b[0;34m,\u001b[0m\u001b[0mndft\u001b[0m\u001b[0;34m,\u001b[0m\u001b[0mHam\u001b[0m \u001b[0;34m=\u001b[0m \u001b[0mHAM_check_multi_hcp\u001b[0m\u001b[0;34m(\u001b[0m\u001b[0mdisplacement\u001b[0m\u001b[0;34m=\u001b[0m\u001b[0;36m0.5\u001b[0m\u001b[0;34m,\u001b[0m\u001b[0mmode\u001b[0m\u001b[0;34m=\u001b[0m\u001b[0;34m[\u001b[0m\u001b[0;36m1\u001b[0m\u001b[0;34m,\u001b[0m\u001b[0;36m1\u001b[0m\u001b[0;34m,\u001b[0m\u001b[0;36m0\u001b[0m\u001b[0;34m]\u001b[0m\u001b[0;34m,\u001b[0m\u001b[0matom\u001b[0m\u001b[0;34m=\u001b[0m\u001b[0;36m14\u001b[0m\u001b[0;34m,\u001b[0m\u001b[0msteps\u001b[0m\u001b[0;34m=\u001b[0m\u001b[0;36m600\u001b[0m\u001b[0;34m,\u001b[0m\u001b[0mcalc\u001b[0m\u001b[0;34m=\u001b[0m\u001b[0mzr2\u001b[0m\u001b[0;34m)\u001b[0m\u001b[0;34m\u001b[0m\u001b[0;34m\u001b[0m\u001b[0m\n\u001b[1;32m      4\u001b[0m \u001b[0mforces\u001b[0m\u001b[0;34m,\u001b[0m\u001b[0mf\u001b[0m\u001b[0;34m,\u001b[0m\u001b[0mdft\u001b[0m\u001b[0;34m,\u001b[0m\u001b[0mndft\u001b[0m\u001b[0;34m,\u001b[0m\u001b[0mHam\u001b[0m \u001b[0;34m=\u001b[0m \u001b[0mHAM_check_multi_hcp\u001b[0m\u001b[0;34m(\u001b[0m\u001b[0mdisplacement\u001b[0m\u001b[0;34m=\u001b[0m\u001b[0;36m1\u001b[0m\u001b[0;34m,\u001b[0m\u001b[0mmode\u001b[0m\u001b[0;34m=\u001b[0m\u001b[0;34m[\u001b[0m\u001b[0;36m1\u001b[0m\u001b[0;34m,\u001b[0m\u001b[0;36m1\u001b[0m\u001b[0;34m,\u001b[0m\u001b[0;36m0\u001b[0m\u001b[0;34m]\u001b[0m\u001b[0;34m,\u001b[0m\u001b[0matom\u001b[0m\u001b[0;34m=\u001b[0m\u001b[0;36m14\u001b[0m\u001b[0;34m,\u001b[0m\u001b[0msteps\u001b[0m\u001b[0;34m=\u001b[0m\u001b[0;36m600\u001b[0m\u001b[0;34m,\u001b[0m\u001b[0mcalc\u001b[0m\u001b[0;34m=\u001b[0m\u001b[0mmeam\u001b[0m\u001b[0;34m)\u001b[0m\u001b[0;34m\u001b[0m\u001b[0;34m\u001b[0m\u001b[0m\n\u001b[1;32m      5\u001b[0m \u001b[0;34m\u001b[0m\u001b[0m\n",
      "\u001b[0;31mNameError\u001b[0m: name 'LJ' is not defined"
     ]
    }
   ],
   "source": [
    "forces1,f1,dft1,ndft1,Ham1 = HAM_check_multi_hcp(displacement=1,mode=[1,1,0],atom=14,steps=600,calc=LJ)\n",
    "forces2,f2,dft2,ndft2,Ham2 = HAM_check_multi_hcp(displacement=1,mode=[1,1,0],atom=14,steps=600,calc=zr2)\n",
    "forces3,f3,dft3,ndft3,Ham3 = HAM_check_multi_hcp(displacement=0.5,mode=[1,1,0],atom=14,steps=600,calc=zr2)\n",
    "forces4,f4,dft4,ndft4,Ham4 = HAM_check_multi_hcp(displacement=1,mode=[1,1,0],atom=14,steps=600,calc=meam)\n",
    "\n",
    "forces5,f5,dft5,ndft5,Ham5 = HAM_check_multi_bcc(displacement=1,mode=[1,1,0],atom=14,steps=600,calc=LJ)\n",
    "forces6,f6,dft6,ndft6,Ham6 = HAM_check_multi_bcc(displacement=1,mode=[1,1,0],atom=14,steps=600,calc=zr2)\n",
    "forces7,f7,dft7,ndft7,Ham7 = HAM_check_multi_bcc(displacement=0.5,mode=[1,1,0],atom=14,steps=600,calc=zr2)\n",
    "forces8,f8,df8t,ndft8,Ham8 = HAM_check_multi_bcc(displacement=1,mode=[1,1,0],atom=14,steps=600,calc=meam)"
   ]
  },
  {
   "cell_type": "code",
   "execution_count": null,
   "id": "22e2f2b3",
   "metadata": {},
   "outputs": [],
   "source": [
    "plt.plot(forces1,label=\"hcp LJ\")\n",
    "plt.plot(forces2,label=\"hcp EAM\")\n",
    "plt.plot(forces3,label=\"hcp MEAM\")\n",
    "plt.plot(forces4,label=\"hcp EAM short\")\n",
    "plt.legend()\n",
    "plt.xlabel(\"time\")\n",
    "plt.ylabel(\"force magnitude\")"
   ]
  },
  {
   "cell_type": "code",
   "execution_count": null,
   "id": "65e7a9ce",
   "metadata": {},
   "outputs": [],
   "source": [
    "plt.plot(f1,label=\"hcp LJ\")\n",
    "plt.plot(f2,label=\"hcp EAM\")\n",
    "plt.plot(f3,label=\"hcp MEAM\")\n",
    "plt.plot(f4,label=\"hcp EAM short\")\n",
    "plt.legend()\n",
    "plt.xlabel(\"time\")\n",
    "plt.ylabel(\"force magnitude\")"
   ]
  },
  {
   "cell_type": "code",
   "execution_count": null,
   "id": "be054092",
   "metadata": {},
   "outputs": [],
   "source": [
    "plt.plot(ndft1,label=\"hcp LJ\")\n",
    "plt.plot(ndft2,label=\"hcp EAM\")\n",
    "plt.plot(ndft3,label=\"hcp MEAM\")\n",
    "plt.plot(ndft4,label=\"hcp EAM short\")\n",
    "plt.legend()\n",
    "plt.xlabel(\"time\")\n",
    "plt.ylabel(\"force magnitude\")"
   ]
  },
  {
   "cell_type": "code",
   "execution_count": null,
   "id": "43b7e447",
   "metadata": {},
   "outputs": [],
   "source": [
    "plt.plot(forces5,label=\"bcc LJ\")\n",
    "plt.plot(forces6,label=\"bcc EAM\")\n",
    "plt.plot(forces7,label=\"bcc MEAM\")\n",
    "plt.plot(forces8,label=\"bcc EAM short\")\n",
    "plt.legend()\n",
    "plt.xlabel(\"time\")\n",
    "plt.ylabel(\"force magnitude\")"
   ]
  },
  {
   "cell_type": "code",
   "execution_count": null,
   "id": "1b0245f4",
   "metadata": {},
   "outputs": [],
   "source": [
    "plt.plot(f5,label=\"bcc LJ\")\n",
    "plt.plot(f6,label=\"bcc EAM\")\n",
    "plt.plot(f7,label=\"bcc MEAM\")\n",
    "plt.plot(f8,label=\"bcc EAM short\")\n",
    "plt.legend()\n",
    "plt.xlabel(\"time\")\n",
    "plt.ylabel(\"force magnitude\")"
   ]
  },
  {
   "cell_type": "code",
   "execution_count": null,
   "id": "0ec09119",
   "metadata": {},
   "outputs": [],
   "source": [
    "plt.plot(ndft5,label=\"bcc LJ\")\n",
    "plt.plot(ndft6,label=\"bcc EAM\")\n",
    "plt.plot(ndft7,label=\"bcc MEAM\")\n",
    "plt.plot(ndft8,label=\"bcc EAM short\")\n",
    "plt.legend()\n",
    "plt.xlabel(\"time\")\n",
    "plt.ylabel(\"force magnitude\")"
   ]
  },
  {
   "cell_type": "code",
   "execution_count": null,
   "id": "83494acf",
   "metadata": {},
   "outputs": [],
   "source": [
    "print(Ham1)\n",
    "print(Ham2)\n",
    "print(Ham3)\n",
    "print(Ham4)\n",
    "print(Ham5)\n",
    "print(Ham6)\n",
    "print(Ham7)\n",
    "print(Ham8)"
   ]
  },
  {
   "cell_type": "code",
   "execution_count": null,
   "id": "cad32969",
   "metadata": {},
   "outputs": [],
   "source": []
  },
  {
   "cell_type": "code",
   "execution_count": null,
   "id": "af3e7f9b",
   "metadata": {},
   "outputs": [],
   "source": []
  }
 ],
 "metadata": {
  "kernelspec": {
   "display_name": "Python 3",
   "language": "python",
   "name": "python3"
  },
  "language_info": {
   "codemirror_mode": {
    "name": "ipython",
    "version": 3
   },
   "file_extension": ".py",
   "mimetype": "text/x-python",
   "name": "python",
   "nbconvert_exporter": "python",
   "pygments_lexer": "ipython3",
   "version": "3.8.8"
  }
 },
 "nbformat": 4,
 "nbformat_minor": 5
}
