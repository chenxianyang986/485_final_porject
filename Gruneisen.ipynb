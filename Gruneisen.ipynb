{
 "cells": [
  {
   "cell_type": "code",
   "execution_count": 10,
   "id": "015c3e58",
   "metadata": {},
   "outputs": [
    {
     "data": {
      "image/png": "[encoded data removed]",
      "text/plain": [
       "<Figure size 432x288 with 3 Axes>"
      ]
     },
     "metadata": {
      "needs_background": "light"
     },
     "output_type": "display_data"
    }
   ],
   "source": [
    "#sinusoid\n",
    "from ase.build import bulk\n",
    "from ase import Atoms\n",
    "from ase.atom import Atom\n",
    "from ase.calculators.emt import EMT\n",
    "from ase.phonons import Phonons\n",
    "from ase.dft.kpoints import *\n",
    "import matplotlib.pyplot as plt\n",
    "import numpy as np\n",
    "from ase.calculators.eam import EAM\n",
    "from ase.md import verlet\n",
    "from ase.md.verlet import VelocityVerlet\n",
    "from ase import units\n",
    "from ase.calculators.lj import LennardJones\n",
    "\n",
    "\n",
    "zr1 = EAM(potential='Zr_3.eam.fs')\n",
    "zr1.write_potential('Zr_3.eam.fs')\n",
    "zr1.plot()\n",
    "\n",
    "zr2 = EAM(potential='Zr_2.eam.fs')\n",
    "zr2.write_potential('Zr_2.eam.fs')\n",
    "zr2.plot()\n"
   ]
  },
  {
   "cell_type": "code",
   "execution_count": 11,
   "id": "fd3e3979",
   "metadata": {},
   "outputs": [],
   "source": [
    "def G_bcc(T,V):\n",
    "    k = 8.617333262e-5\n",
    "    \n",
    "    temp = str(T)\n",
    "    vol = str(V)\n",
    "    tempname = (vol+\"_\"+temp + \"_phonon\" +  \"_bcc\")\n",
    "    \n",
    "    a_ = (2*V)**(1/3)\n",
    "\n",
    "    atoms = bulk('Zr', 'bcc',  a=a_)\n",
    "    atoms.calc = zr2\n",
    "    N = 7\n",
    "    ph = Phonons(atoms, zr2, supercell=(N, N, N), delta=0.05,name = tempname)\n",
    "    ph.run()\n",
    "    ph.read(acoustic=True)\n",
    "    ph.clean()\n",
    "\n",
    "    #Trial1:\n",
    "    kv=(7, 7, 7)\n",
    "    kvc = monkhorst_pack(kv)\n",
    "    omega_kl = ph.band_structure(kvc,verbose = False)\n",
    "\n",
    "    return omega_kl\n",
    "\n",
    "\n",
    "\n",
    "def G_hcp(T,V):\n",
    "    k = 8.617333262e-5\n",
    "    \n",
    "    a_ = (V/np.sqrt(2))**(1/3)\n",
    "    \n",
    "    temp = str(T)\n",
    "    vol = str(V)\n",
    "    tempname = (vol+\"_\"+temp + \"_phonon\" +  \"_hcp\")\n",
    "    \n",
    "    atoms = bulk('Zr', 'hcp',  a=a_, c = 1.633*a_)\n",
    "    atoms.calc = zr2\n",
    "    N = 7\n",
    "    ph = Phonons(atoms, zr2, supercell=(N, N, N), delta=0.05,name = tempname)\n",
    "    ph.run()\n",
    "    ph.read(acoustic=True)\n",
    "    ph.clean()\n",
    "\n",
    "    #Trial1:\n",
    "    kv=(7, 7, 7)\n",
    "    kvc = monkhorst_pack(kv)\n",
    "    omega_kl = ph.band_structure(kvc,verbose = False)\n",
    "    \n",
    "    return omega_kl\n",
    "    \n",
    "\n",
    "    "
   ]
  },
  {
   "cell_type": "code",
   "execution_count": 12,
   "id": "3bc33d25",
   "metadata": {},
   "outputs": [],
   "source": [
    "def differential_hcp(V,T):\n",
    "    \n",
    "    V1 = V+0.005\n",
    "    V2 = V-0.005\n",
    "    omega1 = np.array(G_hcp(T,V1))\n",
    "    omega2 = np.array(G_hcp(T,V2))\n",
    "    P = (omega1 - omega2)/0.01\n",
    "    \n",
    "    return P\n",
    "\n",
    "def differential_bcc(V,T):\n",
    "    \n",
    "    V1 = V+0.005\n",
    "    V2 = V-0.005\n",
    "    omega1 = np.array(G_bcc(T,V1))\n",
    "    omega2 = np.array(G_bcc(T,V2))\n",
    "    P = (omega1 - omega2)/0.01\n",
    "    \n",
    "    return P\n",
    "\n",
    "\n",
    "        \n",
    "        "
   ]
  },
  {
   "cell_type": "code",
   "execution_count": null,
   "id": "29688764",
   "metadata": {},
   "outputs": [],
   "source": []
  },
  {
   "cell_type": "code",
   "execution_count": null,
   "id": "10268989",
   "metadata": {},
   "outputs": [],
   "source": []
  },
  {
   "cell_type": "code",
   "execution_count": 13,
   "id": "dbeb85e7",
   "metadata": {},
   "outputs": [],
   "source": [
    "def cvt(omega_kl,T):\n",
    "    k = 8.617333262e-5\n",
    "    w = np.copy(omega_kl)\n",
    "    d = k*(w/(k*T))**2*(np.exp(w/k*T)/(np.exp(w/k*T)**2 - 1)**2)    \n",
    "\n",
    "    return d\n",
    "    \n",
    "    "
   ]
  },
  {
   "cell_type": "code",
   "execution_count": null,
   "id": "d2149ca5",
   "metadata": {},
   "outputs": [],
   "source": [
    "\n"
   ]
  },
  {
   "cell_type": "code",
   "execution_count": 14,
   "id": "e2ec45b9",
   "metadata": {},
   "outputs": [],
   "source": [
    "def Gruneisen_hcp(V,T):\n",
    "    omega_kl = G_hcp(V,T)\n",
    "    omega = np.abs(np.array(omega_kl))\n",
    "    diff = differential_hcp(V,T)\n",
    "    g = diff*(V/omega)\n",
    "    c = cvt(omega,T)\n",
    "    gamma = np.sum(np.multiply(g,c))/np.sum(c)\n",
    "    \n",
    "    return gamma,g\n",
    "\n",
    "def Gruneisen_bcc(V,T):\n",
    "    \n",
    "    omega_kl = G_bcc(V,T)\n",
    "    omega = np.abs(np.array(omega_kl))\n",
    "    diff = differential_bcc(V,T)\n",
    "    g = diff*(V/omega)\n",
    "    c = cvt(omega,T)\n",
    "    gamma = np.sum(np.multiply(g,c))/np.sum(c)\n",
    "    \n",
    "    return gamma,g"
   ]
  },
  {
   "cell_type": "code",
   "execution_count": 15,
   "id": "d8f9db00",
   "metadata": {},
   "outputs": [
    {
     "data": {
      "text/plain": [
       "46.80211033403901"
      ]
     },
     "execution_count": 15,
     "metadata": {},
     "output_type": "execute_result"
    }
   ],
   "source": [
    "atoms = bulk('Zr', 'hcp',  a=3.23, b = 5.18)\n",
    "#atoms = bulk('Zr', 'bcc',  a=3.6)\n",
    "atoms.get_volume()"
   ]
  },
  {
   "cell_type": "markdown",
   "id": "a0b67b4e",
   "metadata": {},
   "source": []
  },
  {
   "cell_type": "code",
   "execution_count": 16,
   "id": "a521e82e",
   "metadata": {},
   "outputs": [],
   "source": [
    "\n",
    "V_bcc = [22,22.5,23,23.5,24,24.5]\n",
    "V_hcp = [45.5,46,46.5,47,47.5,48]\n",
    "\n",
    "T = [100,200,300,400,500,600,700,800,900,1000,1100,1200,1300,1400]"
   ]
  },
  {
   "cell_type": "code",
   "execution_count": null,
   "id": "b7864f00",
   "metadata": {},
   "outputs": [
    {
     "name": "stderr",
     "output_type": "stream",
     "text": [
      "<ipython-input-13-bae0221607a4>:4: RuntimeWarning: overflow encountered in exp\n",
      "  d = k*(w/(k*T))**2*(np.exp(w/k*T)/(np.exp(w/k*T)**2 - 1)**2)\n",
      "<ipython-input-13-bae0221607a4>:4: RuntimeWarning: invalid value encountered in divide\n",
      "  d = k*(w/(k*T))**2*(np.exp(w/k*T)/(np.exp(w/k*T)**2 - 1)**2)\n",
      "<ipython-input-13-bae0221607a4>:4: RuntimeWarning: overflow encountered in square\n",
      "  d = k*(w/(k*T))**2*(np.exp(w/k*T)/(np.exp(w/k*T)**2 - 1)**2)\n"
     ]
    },
    {
     "name": "stdout",
     "output_type": "stream",
     "text": [
      "i: 0 out of 6, j: 0out of 14\n",
      "i: 0 out of 6, j: 1out of 14\n",
      "i: 0 out of 6, j: 2out of 14\n"
     ]
    },
    {
     "name": "stderr",
     "output_type": "stream",
     "text": [
      "<ipython-input-14-ec4accae8b4d>:16: RuntimeWarning: divide by zero encountered in divide\n",
      "  g = diff*(V/omega)\n",
      "<ipython-input-13-bae0221607a4>:4: RuntimeWarning: divide by zero encountered in divide\n",
      "  d = k*(w/(k*T))**2*(np.exp(w/k*T)/(np.exp(w/k*T)**2 - 1)**2)\n",
      "<ipython-input-13-bae0221607a4>:4: RuntimeWarning: invalid value encountered in multiply\n",
      "  d = k*(w/(k*T))**2*(np.exp(w/k*T)/(np.exp(w/k*T)**2 - 1)**2)\n"
     ]
    },
    {
     "name": "stdout",
     "output_type": "stream",
     "text": [
      "i: 0 out of 6, j: 3out of 14\n",
      "i: 0 out of 6, j: 4out of 14\n",
      "i: 0 out of 6, j: 5out of 14\n"
     ]
    },
    {
     "name": "stderr",
     "output_type": "stream",
     "text": [
      "<ipython-input-14-ec4accae8b4d>:5: RuntimeWarning: divide by zero encountered in divide\n",
      "  g = diff*(V/omega)\n"
     ]
    },
    {
     "name": "stdout",
     "output_type": "stream",
     "text": [
      "i: 0 out of 6, j: 6out of 14\n",
      "i: 0 out of 6, j: 7out of 14\n",
      "i: 0 out of 6, j: 8out of 14\n",
      "i: 0 out of 6, j: 9out of 14\n",
      "i: 0 out of 6, j: 10out of 14\n",
      "i: 0 out of 6, j: 11out of 14\n",
      "i: 0 out of 6, j: 12out of 14\n",
      "i: 0 out of 6, j: 13out of 14\n",
      "i: 1 out of 6, j: 0out of 14\n",
      "i: 1 out of 6, j: 1out of 14\n",
      "i: 1 out of 6, j: 2out of 14\n",
      "i: 1 out of 6, j: 3out of 14\n",
      "i: 1 out of 6, j: 4out of 14\n",
      "i: 1 out of 6, j: 5out of 14\n",
      "i: 1 out of 6, j: 6out of 14\n",
      "i: 1 out of 6, j: 7out of 14\n",
      "i: 1 out of 6, j: 8out of 14\n",
      "i: 1 out of 6, j: 9out of 14\n",
      "i: 1 out of 6, j: 10out of 14\n",
      "i: 1 out of 6, j: 11out of 14\n",
      "i: 1 out of 6, j: 12out of 14\n",
      "i: 1 out of 6, j: 13out of 14\n",
      "i: 2 out of 6, j: 0out of 14\n",
      "i: 2 out of 6, j: 1out of 14\n",
      "i: 2 out of 6, j: 2out of 14\n",
      "i: 2 out of 6, j: 3out of 14\n",
      "i: 2 out of 6, j: 4out of 14\n",
      "i: 2 out of 6, j: 5out of 14\n",
      "i: 2 out of 6, j: 6out of 14\n",
      "i: 2 out of 6, j: 7out of 14\n",
      "i: 2 out of 6, j: 8out of 14\n",
      "i: 2 out of 6, j: 9out of 14\n"
     ]
    }
   ],
   "source": [
    "Grun_b = np.zeros(shape=(6,14))\n",
    "Grun_h = np.zeros(shape=(6,14))\n",
    "\n",
    "for i in range(len(V_bcc)):\n",
    "    for j in range(len(T)):\n",
    "        gammab,gb = Gruneisen_bcc(V_bcc[i],T[j])\n",
    "        gammah,gh = Gruneisen_hcp(V_hcp[i],T[j])\n",
    "        Grun_b[i][j] = gammab\n",
    "        Grun_h[i][j] = gammah\n",
    "        print(\"i: \" + str(i) + \" out of 6, j: \" + str(j) + \"out of 14\")"
   ]
  },
  {
   "cell_type": "code",
   "execution_count": null,
   "id": "b961f673",
   "metadata": {},
   "outputs": [],
   "source": []
  },
  {
   "cell_type": "code",
   "execution_count": null,
   "id": "2006ec5c",
   "metadata": {},
   "outputs": [],
   "source": []
  }
 ],
 "metadata": {
  "kernelspec": {
   "display_name": "Python 3",
   "language": "python",
   "name": "python3"
  },
  "language_info": {
   "codemirror_mode": {
    "name": "ipython",
    "version": 3
   },
   "file_extension": ".py",
   "mimetype": "text/x-python",
   "name": "python",
   "nbconvert_exporter": "python",
   "pygments_lexer": "ipython3",
   "version": "3.8.8"
  }
 },
 "nbformat": 4,
 "nbformat_minor": 5
}
